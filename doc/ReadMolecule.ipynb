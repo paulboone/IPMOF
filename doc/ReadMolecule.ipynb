{
 "cells": [
  {
   "cell_type": "code",
   "execution_count": null,
   "metadata": {
    "collapsed": true
   },
   "outputs": [],
   "source": [
    "import os\n",
    "\n",
    "os.chdir('../')"
   ]
  },
  {
   "cell_type": "code",
   "execution_count": null,
   "metadata": {
    "collapsed": true
   },
   "outputs": [],
   "source": [
    "# Select MOF directory\n",
    "mof_path = os.path.join(os.getcwd(), 'mof', 'SAHYIK_H.cif')"
   ]
  },
  {
   "cell_type": "code",
   "execution_count": null,
   "metadata": {
    "collapsed": false
   },
   "outputs": [],
   "source": [
    "reader = 'babel'\n",
    "\n",
    "# Openbabel molecule reader\n",
    "r = __import__('ipmof.io.' + reader, fromlist=[''])\n",
    "\n",
    "molecule = r.read(mof_path)\n",
    "\n",
    "print('Atoms:', len(molecule['atom_names']))\n",
    "print(molecule['uc_size'])\n",
    "print(molecule['uc_angle'])"
   ]
  },
  {
   "cell_type": "code",
   "execution_count": null,
   "metadata": {
    "collapsed": false
   },
   "outputs": [],
   "source": [
    "reader = 'ase'\n",
    "\n",
    "# Openbabel molecule reader\n",
    "r = __import__('ipmof.io.' + reader, fromlist=[''])\n",
    "\n",
    "molecule = r.read(mof_path)\n",
    "\n",
    "print('Atoms:', len(molecule['atom_names']))\n",
    "print(molecule['uc_size'])\n",
    "print(molecule['uc_angle'])"
   ]
  },
  {
   "cell_type": "code",
   "execution_count": null,
   "metadata": {
    "collapsed": false
   },
   "outputs": [],
   "source": [
    "from ipmof.crystal import MOF\n",
    "\n",
    "# Using ase reader to read structure information for a MOF object\n",
    "m_ase = MOF(mof_path, reader='ase')\n",
    "\n",
    "# Using openbabel reader to read structure information for a MOF object\n",
    "m_babel = MOF(mof_path, reader='babel')"
   ]
  },
  {
   "cell_type": "code",
   "execution_count": null,
   "metadata": {
    "collapsed": true
   },
   "outputs": [],
   "source": [
    "from ase import Atoms\n",
    "from ase.io import read\n",
    "from ase.io import write"
   ]
  },
  {
   "cell_type": "code",
   "execution_count": null,
   "metadata": {
    "collapsed": true
   },
   "outputs": [],
   "source": [
    "# Export using ASE\n",
    "\n",
    "asel = read(mof_path)\n",
    "\n",
    "new = Atoms(asel.get_chemical_symbols(), positions=asel.positions)\n",
    "new.cell = asel.cell\n",
    "new.pbc = asel.pbc\n",
    "\n",
    "write('test.cif', new)"
   ]
  },
  {
   "cell_type": "code",
   "execution_count": null,
   "metadata": {
    "collapsed": true
   },
   "outputs": [],
   "source": []
  }
 ],
 "metadata": {
  "kernelspec": {
   "display_name": "Python 3",
   "language": "python",
   "name": "python3"
  },
  "language_info": {
   "codemirror_mode": {
    "name": "ipython",
    "version": 3
   },
   "file_extension": ".py",
   "mimetype": "text/x-python",
   "name": "python",
   "nbconvert_exporter": "python",
   "pygments_lexer": "ipython3",
   "version": "3.5.1"
  }
 },
 "nbformat": 4,
 "nbformat_minor": 0
}
